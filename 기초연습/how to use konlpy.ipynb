{
 "cells": [
  {
   "cell_type": "code",
   "execution_count": 80,
   "metadata": {},
   "outputs": [],
   "source": [
    "import matplotlib.pyplot as plt\n",
    "import platform\n",
    "    \n",
    "%matplotlib inline    "
   ]
  },
  {
   "cell_type": "code",
   "execution_count": 81,
   "metadata": {},
   "outputs": [],
   "source": [
    "from matplotlib import font_manager, rc\n",
    "font_fname = 'c:/windows/fonts/gulim.ttc'    \n",
    "font_name = font_manager.FontProperties(fname=font_fname).get_name()\n",
    "rc('font', family=font_name)"
   ]
  },
  {
   "cell_type": "code",
   "execution_count": 61,
   "metadata": {},
   "outputs": [],
   "source": [
    "from konlpy.tag import Kkma\n",
    "kkma=Kkma()"
   ]
  },
  {
   "cell_type": "code",
   "execution_count": 62,
   "metadata": {},
   "outputs": [
    {
     "data": {
      "text/plain": [
       "['나는 할 수 있어요!', '재미있는 분석']"
      ]
     },
     "execution_count": 62,
     "metadata": {},
     "output_type": "execute_result"
    }
   ],
   "source": [
    "kkma.sentences('나는 할 수 있어요! 재미있는 분석')"
   ]
  },
  {
   "cell_type": "code",
   "execution_count": 63,
   "metadata": {},
   "outputs": [],
   "source": [
    "from konlpy.tag import Hannanum\n",
    "hannanum = Hannanum()"
   ]
  },
  {
   "cell_type": "code",
   "execution_count": 64,
   "metadata": {},
   "outputs": [
    {
     "data": {
      "text/plain": [
       "['나', '는', '하', 'ㄹ', '수', '있', '어', '요', '!', '재미있', '는', '분석']"
      ]
     },
     "execution_count": 64,
     "metadata": {},
     "output_type": "execute_result"
    }
   ],
   "source": [
    "hannanum.morphs('나는 할 수 있어요! 재미있는 분석')"
   ]
  },
  {
   "cell_type": "markdown",
   "metadata": {},
   "source": [
    "### 육아휴직 관련 법안에 대한 분석\n",
    "\n",
    "- konlpy의 내부 문서 중 육아휴직 관련 법안 읽어오기\n"
   ]
  },
  {
   "cell_type": "code",
   "execution_count": 65,
   "metadata": {},
   "outputs": [],
   "source": [
    "import nltk\n",
    "from konlpy.corpus import kobill"
   ]
  },
  {
   "cell_type": "code",
   "execution_count": 66,
   "metadata": {},
   "outputs": [],
   "source": [
    "files_ko = kobill.fileids()\n",
    "doc_ko = kobill.open('1809890.txt').read()"
   ]
  },
  {
   "cell_type": "markdown",
   "metadata": {},
   "source": [
    "### 트위터 분석기로 명사 분석하기"
   ]
  },
  {
   "cell_type": "markdown",
   "metadata": {},
   "source": [
    "#### tokenize"
   ]
  },
  {
   "cell_type": "code",
   "execution_count": 67,
   "metadata": {},
   "outputs": [],
   "source": [
    "from konlpy.tag import Okt ; t = Okt()\n",
    "token_ko = t.nouns(doc_ko)"
   ]
  },
  {
   "cell_type": "markdown",
   "metadata": {},
   "source": [
    "#### Load tokens with nltk.Text()\n",
    "\n",
    "- nltk.Text()는 문서 하나를 편리하게 탐색할 수 있는 다양한 기능을 제공"
   ]
  },
  {
   "cell_type": "code",
   "execution_count": 68,
   "metadata": {},
   "outputs": [],
   "source": [
    "ko = nltk.Text(token_ko, name = '대한민국 국회 의안')"
   ]
  },
  {
   "cell_type": "code",
   "execution_count": 69,
   "metadata": {},
   "outputs": [
    {
     "name": "stdout",
     "output_type": "stream",
     "text": [
      "735\n",
      "250\n"
     ]
    },
    {
     "data": {
      "text/plain": [
       "FreqDist({'육아휴직': 38, '발생': 19, '만': 18, '이하': 18, '비용': 17, '액': 17, '경우': 16, '세': 16, '자녀': 14, '고용': 14, ...})"
      ]
     },
     "execution_count": 69,
     "metadata": {},
     "output_type": "execute_result"
    }
   ],
   "source": [
    "# 전체 단어수\n",
    "print(len(ko))\n",
    "\n",
    "# 중복 제거 된 단어수\n",
    "print(len(set(ko)))\n",
    "\n",
    "# 빈도수 체크\n",
    "ko.vocab()"
   ]
  },
  {
   "cell_type": "code",
   "execution_count": 82,
   "metadata": {},
   "outputs": [
    {
     "data": {
      "image/png": "[encoded data removed]",
      "text/plain": [
       "<Figure size 432x288 with 1 Axes>"
      ]
     },
     "metadata": {
      "needs_background": "light"
     },
     "output_type": "display_data"
    }
   ],
   "source": [
    "ko.plot(10)\n",
    "plt.show()"
   ]
  },
  {
   "cell_type": "code",
   "execution_count": 83,
   "metadata": {},
   "outputs": [
    {
     "data": {
      "text/plain": [
       "6"
      ]
     },
     "execution_count": 83,
     "metadata": {},
     "output_type": "execute_result"
    }
   ],
   "source": [
    "ko.count('초등학교')"
   ]
  },
  {
   "cell_type": "code",
   "execution_count": 84,
   "metadata": {},
   "outputs": [
    {
     "data": {
      "image/png": "[encoded data removed]",
      "text/plain": [
       "<Figure size 432x288 with 1 Axes>"
      ]
     },
     "metadata": {
      "needs_background": "light"
     },
     "output_type": "display_data"
    }
   ],
   "source": [
    "ko.dispersion_plot(['육아휴직','초등학교','공무원'])"
   ]
  },
  {
   "cell_type": "code",
   "execution_count": 86,
   "metadata": {},
   "outputs": [
    {
     "name": "stdout",
     "output_type": "stream",
     "text": [
      "Displaying 10 of 10 matches:\n",
      "제안 이유 및 내용 초등학교 저학년 경우 부모 사랑 필요 나이 현재 공무원 자녀 양육 위 육아휴직 수 자녀 나이 만 세 이하 초등학교 저학년 \n",
      "신 구조 문대비 표 현 행 개 정 안 제 휴직 생 략 제 휴직 현행 공무원 다음 각 호의 느 하나 해당 사유 직 임용 휴직 명 수 다만 제 호\n",
      " 취학 중인 경우 학 전 자녀 양육 위 초등학교 학년 이하 여 여자 공무원 말 의 자녀 임신 출산 때 생 략 생 략 현행 현행 지방공무원법 일\n",
      "녀 연령 만 세 이하 만 세 이하 방공 무 법 제 항제 호 중 지방 공무원 육아휴직 가능 자녀 연 령 만 세 이하 만 세 이하 교육 공무원 법\n",
      "방 공무원 육아휴직 가능 자녀 연 령 만 세 이하 만 세 이하 교육 공무원 법 제 항 제 중 교육 공무원 육아휴직 가능 자녀 연령 만 세 이하\n",
      "연 령 만 세 이하 만 세 이하 교육 공무원 법 제 항 제 중 교육 공무원 육아휴직 가능 자녀 연령 만 세 이하 만 세 이하 남녀 고용 평등 \n",
      "경비 로서 총 미만 경우 해당 함 첨부 사유 개정안 국가 지방 교육 공무원 및 근로자 육아휴직 신청 수 자녀 연령 만 세 이하 만 세 이하 상\n",
      " 고 가정 경우 현재 자녀 연령 세이 육아휴직 신청 국가 지방 교육 공무원 및 근로자 대상 대상 연령 확대 육아휴직 신청 수가 정도 것 예상 \n",
      "급 추가 비용 발생 행정안전부 통계 자료 행정안전부 통계 연감 지방 공무원 육 휴직 현황 자료 여기 육아휴직 발생 경우 체인 주로 임용 기자 \n",
      "기 육아휴직 발생 경우 체인 주로 임용 기자 일용직 활용 것 따라서 공무원 경우 표 기업체 체인 고용 확률 것 이상 논의 바탕 육아휴직 기간 \n"
     ]
    }
   ],
   "source": [
    "ko.concordance('공무원')"
   ]
  },
  {
   "cell_type": "code",
   "execution_count": 89,
   "metadata": {},
   "outputs": [
    {
     "data": {
      "text/plain": [
       "['지방공무원법', '일부', '개정', '법률', '안', '정의화', '의원', '대표', '발의', '의']"
      ]
     },
     "execution_count": 89,
     "metadata": {},
     "output_type": "execute_result"
    }
   ],
   "source": [
    "ko.tokens[:10]"
   ]
  },
  {
   "cell_type": "code",
   "execution_count": 102,
   "metadata": {},
   "outputs": [],
   "source": [
    "stop_words = ['.','%','-','X','의','다','를','을','안','호','번','발','자','이','것']\n",
    "\n",
    "ko = [x for x in ko if x not in stop_words]"
   ]
  },
  {
   "cell_type": "code",
   "execution_count": 100,
   "metadata": {},
   "outputs": [
    {
     "data": {
      "text/plain": [
       "nltk.text.Text"
      ]
     },
     "execution_count": 100,
     "metadata": {},
     "output_type": "execute_result"
    }
   ],
   "source": [
    "type(ko)"
   ]
  },
  {
   "cell_type": "code",
   "execution_count": 103,
   "metadata": {},
   "outputs": [
    {
     "name": "stdout",
     "output_type": "stream",
     "text": [
      "<class 'nltk.text.Text'>\n"
     ]
    },
    {
     "data": {
      "image/png": "[encoded data removed]",
      "text/plain": [
       "<Figure size 1080x288 with 1 Axes>"
      ]
     },
     "metadata": {
      "needs_background": "light"
     },
     "output_type": "display_data"
    }
   ],
   "source": [
    "ko = nltk.Text(ko, name='대한민국 국회의안')\n",
    "print(type(ko))\n",
    "plt.figure(figsize=(15,4))\n",
    "ko.plot(50)"
   ]
  }
 ],
 "metadata": {
  "kernelspec": {
   "display_name": "Python 3",
   "language": "python",
   "name": "python3"
  },
  "language_info": {
   "codemirror_mode": {
    "name": "ipython",
    "version": 3
   },
   "file_extension": ".py",
   "mimetype": "text/x-python",
   "name": "python",
   "nbconvert_exporter": "python",
   "pygments_lexer": "ipython3",
   "version": "3.6.10"
  }
 },
 "nbformat": 4,
 "nbformat_minor": 4
}
